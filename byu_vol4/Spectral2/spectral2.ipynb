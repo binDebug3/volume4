{
 "cells": [
  {
   "cell_type": "markdown",
   "source": [
    "<h1 align=\"center\">Volume 4: Spectral 2.</h1>\n",
    "\n",
    "    NAME\n",
    "    Section #\n",
    "    DATE"
   ],
   "metadata": {}
  },
  {
   "cell_type": "code",
   "execution_count": null,
   "source": [
    "import numpy as np\n",
    "from scipy.fftpack import fft, ifft\n",
    "import matplotlib.pyplot as plt\n",
    "from mpl_toolkits.mplot3d import Axes3D"
   ],
   "outputs": [],
   "metadata": {}
  },
  {
   "cell_type": "markdown",
   "source": [
    "# Sample Code"
   ],
   "metadata": {}
  },
  {
   "cell_type": "code",
   "execution_count": null,
   "source": [
    "N=24\n",
    "x1 = (2.*np.pi/N)*np.arange(N)\n",
    "f = np.sin(x1)**2.*np.cos(x1) + np.exp(2.*np.sin(x1+1))\n",
    "\n",
    "k = np.concatenate(( np.arange(0,N/2) ,\n",
    "                    np.array([0]) , # Because hat{f}'(k) at k = N/2 is zero.\n",
    "                    np.arange(-N/2+1,0) ))\n",
    "\n",
    "# Approximates the derivative using the pseudospectral method\n",
    "f_hat = fft(f)\n",
    "fp_hat = ((1j*k)*f_hat)\n",
    "fp = np.real(ifft(fp_hat))\n",
    "\n",
    "# Calculates the derivative analytically\n",
    "x2 = np.linspace(0,2*np.pi,200)\n",
    "derivative = (2.*np.sin(x2)*np.cos(x2)**2. -\n",
    "              np.sin(x2)**3. +\n",
    "              2*np.cos(x2+1)*np.exp(2*np.sin(x2+1))\n",
    "             )\n",
    "\n",
    "plt.plot(x2,derivative,'-k',linewidth=2.)\n",
    "plt.plot(x1,fp,'*b')\n",
    "plt.show()"
   ],
   "outputs": [],
   "metadata": {}
  },
  {
   "cell_type": "markdown",
   "source": [
    "# Problem 1\n",
    "\n",
    "Create a function\n",
    "that approximates 1/2u'' − u' on the Fourier grid points for N = 24."
   ],
   "metadata": {}
  },
  {
   "cell_type": "code",
   "execution_count": null,
   "source": [],
   "outputs": [],
   "metadata": {}
  },
  {
   "cell_type": "markdown",
   "source": [
    "# Problem 2 - setup"
   ],
   "metadata": {}
  },
  {
   "cell_type": "code",
   "execution_count": null,
   "source": [
    "def initialize_all(a,b,y0,h):\n",
    "    n = int((b-a)/h+1)\n",
    "    X = np.linspace(a,b,n)\n",
    "    if isinstance(y0,np.ndarray):\n",
    "        Y = np.empty((n, y0.size))\n",
    "    else:\n",
    "        Y = np.empty(n)\n",
    "    Y[0] = y0\n",
    "    return X,Y,h,int(n)\n",
    "\n",
    "def RK4(f,X,Y,h,n):\n",
    "    for i in range(n-1):\n",
    "        K1 = f(X[i],Y[i])\n",
    "        K2 = f(X[i]+h/2,Y[i]+h/2*K1)\n",
    "        K3 = f(X[i]+h/2,Y[i]+h/2*K2)\n",
    "        K4 = f(X[i+1],Y[i]+h*K3)\n",
    "        Y[i+1] = Y[i] + h/6*(K1+2*K2+2*K3+K4)\n",
    "    return Y"
   ],
   "outputs": [],
   "metadata": {}
  },
  {
   "cell_type": "markdown",
   "source": [
    "# Problem 2 \n",
    "Using a fourth order Runge-Kutta method (RK4), solve the initial value problem. \n",
    "Plot your numerical solution from\n",
    "t = 0 to t = 8 over 150 time steps and 100 x steps. Note that the initial data is nearly zero\n",
    "near x = 0 and 2π, and so we can use the pseudospectral method. a Use the following code to\n",
    "help graph."
   ],
   "metadata": {}
  },
  {
   "cell_type": "code",
   "execution_count": null,
   "source": [],
   "outputs": [],
   "metadata": {}
  }
 ],
 "metadata": {
  "kernelspec": {
   "display_name": "Python 3",
   "language": "python",
   "name": "python3"
  },
  "language_info": {
   "codemirror_mode": {
    "name": "ipython",
    "version": 3
   },
   "file_extension": ".py",
   "mimetype": "text/x-python",
   "name": "python",
   "nbconvert_exporter": "python",
   "pygments_lexer": "ipython3",
   "version": "3.7.3"
  }
 },
 "nbformat": 4,
 "nbformat_minor": 4
}