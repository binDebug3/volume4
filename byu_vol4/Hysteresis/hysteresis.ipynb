{
 "cells": [
  {
   "cell_type": "code",
   "execution_count": null,
   "metadata": {
    "collapsed": true
   },
   "outputs": [],
   "source": [
    "import numpy as np\n",
    "import matplotlib.pyplot as plt\n",
    "from scipy.optimize import newton"
   ]
  },
  {
   "cell_type": "markdown",
   "metadata": {},
   "source": [
    "# Problem 1\n",
    "\n",
    "Use the natural embedding algorithm to create a bifurcation diagram for the differential equation\n",
    "\n",
    "x = λx − x^3\n",
    "\n",
    "This type of bifurcation is called a pitchfork bifurcation (you should see a pitchfork in your\n",
    "diagram)"
   ]
  },
  {
   "cell_type": "code",
   "execution_count": null,
   "metadata": {},
   "outputs": [],
   "source": []
  },
  {
   "cell_type": "markdown",
   "metadata": {},
   "source": [
    "# Problem 2\n",
    "Create bifurcation diagrams for the diffrential equation\n",
    "\n",
    "x = η + λx − x^3,\n",
    "\n",
    "where η = −1, −.2, .2 and 1. Notice that when η = 0 you can see the pitchfork bifurcation of\n",
    "the previous problem. T"
   ]
  },
  {
   "cell_type": "code",
   "execution_count": null,
   "metadata": {},
   "outputs": [],
   "source": []
  },
  {
   "cell_type": "markdown",
   "metadata": {},
   "source": [
    "# Problem 3 - Hysteresis\n",
    "\n",
    "Reproduce the bifurcation diagram for the differential equation\n",
    "\n",
    "dx/dτ = rx(1 − x/k) −x^2/(1 + x)^2,\n",
    "\n",
    "where r = 0.56"
   ]
  },
  {
   "cell_type": "code",
   "execution_count": null,
   "metadata": {},
   "outputs": [],
   "source": []
  }
 ],
 "metadata": {
  "kernelspec": {
   "display_name": "Python 3",
   "language": "python",
   "name": "python3"
  },
  "language_info": {
   "codemirror_mode": {
    "name": "ipython",
    "version": 3
   },
   "file_extension": ".py",
   "mimetype": "text/x-python",
   "name": "python",
   "nbconvert_exporter": "python",
   "pygments_lexer": "ipython3",
   "version": "3.7.9"
  }
 },
 "nbformat": 4,
 "nbformat_minor": 1
}
