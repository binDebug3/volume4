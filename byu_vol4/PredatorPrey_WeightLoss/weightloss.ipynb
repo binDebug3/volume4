{
 "cells": [
  {
   "cell_type": "code",
   "execution_count": null,
   "metadata": {},
   "outputs": [],
   "source": [
    "from math import log\n",
    "import numpy as np\n",
    "import matplotlib.pyplot as plt\n",
    "from scipy.integrate import solve_ivp"
   ]
  },
  {
   "cell_type": "markdown",
   "metadata": {},
   "source": [
    "# Problem 1\n",
    "\n",
    "The solve_ivp solver requires a callable function representing the right hand side of the IVP. Define the function predator_prey() that accepts the current r(t) and w(t) values as a 1d array y, and the current time t, and returns the right hand side of the predator-prey model as a tuple. Use $\\alpha$ = 1.0, $\\beta$ = 0.5, $\\delta$ = 0.75, and $\\gamma$ = 0.25 as your growth parameters."
   ]
  },
  {
   "cell_type": "code",
   "execution_count": null,
   "metadata": {},
   "outputs": [],
   "source": [
    "def predator_prey(t, y):\n",
    "    \"\"\"Compute right hand side of Predator-Prey model based on rabbit and\n",
    "    wolf populations at given time.\n",
    "    \n",
    "    Parameters:\n",
    "        y ((2, ) ndarray): A vector representing rabbit and wolf populations \n",
    "            at time t.\n",
    "        t (float): Current time.\n",
    "        \n",
    "    Returns:\n",
    "        (ndarray): A ndarray corresponding to right hand side of the Predator-\n",
    "            Prey model.\n",
    "    \"\"\"\n",
    "    pass"
   ]
  },
  {
   "cell_type": "markdown",
   "metadata": {},
   "source": [
    "# Problem 2\n",
    "\n",
    "Use solve_ivp to solve the predator-prey model ODE with initial conditions (r0 , w0 ) = (5, 3) and time ranging from 0 to 20 years. Display the resulting rabbit and wolf populations over time (stored as columns in the output of solve_ivp) on the same plot."
   ]
  },
  {
   "cell_type": "code",
   "execution_count": null,
   "metadata": {},
   "outputs": [],
   "source": []
  },
  {
   "cell_type": "markdown",
   "metadata": {},
   "source": [
    "# Problem 3\n",
    "\n",
    "Similar to problem 1, define the function Lotka_Volterra() that takes in the current preditor and prey populations as a 1d array y and the current time as a float t and returns the right hand side of the Lotka-Volterra predator-prey model with $\\eta$ = 1/3.\n",
    "\n",
    "Using solve_ivp, solve the IVP with three different initial conditions $y_0 = (1/2, 1/3)$, $y_0 = (1/2, 3/4)$, and $y_0 = (1/16, 3/4)$ and time domain $t = [0, 13]$. Plot these three solutions on the same graph as the phase portrait and the equilibria (0, 0) and (1, 1).\n",
    "\n",
    "Since your solutions are being plotted with the phase portrait, plot the two populations against eachother (instead of both individually against time)."
   ]
  },
  {
   "cell_type": "code",
   "execution_count": null,
   "metadata": {
    "scrolled": true
   },
   "outputs": [],
   "source": [
    "def Lotka_Volterra(t, y):\n",
    "    \"\"\"Compute right hand side of Lotka Volterra Predator-Prey model based \n",
    "    on rabbit and wolf populations at given time.\n",
    "    \n",
    "    Parameters:\n",
    "        y ((2, ) ndarray): A vector representing rabbit and wolf populations \n",
    "            at time t.\n",
    "        t (float): Current time.\n",
    "        \n",
    "    Returns:\n",
    "        (tuple): A tuple corresponding to right hand side of the Lotka \n",
    "            Volterra Predator-Prey model.\n",
    "    \"\"\"\n",
    "    pass\n",
    "\n",
    "# Provided code for plotting phase portrait.\n",
    "Y1, Y2 = np.meshgrid(np.linspace(0,4.5,25), np.linspace(0,4.5,25))\n",
    "dU, dV = Lotka_Volterra(0, (Y1, Y2))\n",
    "Q = plt.quiver(Y1[::3, ::3],Y2[::3, ::3],dU[::3, ::3],dV[::3, ::3])"
   ]
  },
  {
   "cell_type": "markdown",
   "metadata": {},
   "source": [
    "# Problem 4\n",
    "\n",
    "Define a new function Logistic_Model() that takes in the current preditor and prey populations y and the current time t and returns the right hand side of the logistic predator-prey model as a tuple.\n",
    "\n",
    "Use solve_ivp to compute solutions (U, V) of (1.3) for initial conditions (1/3, 1/3) and (1/2, 1/5). Do this for parameter values $\\eta$, $\\rho$ = 1, 0.3 and also for values $\\eta$, $\\rho$ = 1, 1.1.\n",
    "\n",
    "Create a phase portrait for the logistic equations using both sets of parameter values. Plot the direction field, all equilibrium points, and both solution orbits on the same plot for each set of parameter values."
   ]
  },
  {
   "cell_type": "code",
   "execution_count": null,
   "metadata": {},
   "outputs": [],
   "source": [
    "def Logistic_Model(t, y):\n",
    "    \"\"\"Compute right hand side of Logistic Predator-Prey model based on\n",
    "    rabbit and wolf populations at given time.\n",
    "    \n",
    "    Parameters:\n",
    "        y ((2, ) ndarray): A vector representing rabbit and wolf populations \n",
    "            at time t.\n",
    "        t (float): Current time.\n",
    "        \n",
    "    Returns:\n",
    "        (tuple): A tuple corresponding to right hand side of the Logistic \n",
    "            Predator-Prey model.\n",
    "    \"\"\"\n",
    "    pass"
   ]
  },
  {
   "cell_type": "markdown",
   "metadata": {},
   "source": [
    "# Problem 5\n",
    "\n",
    "Write the functions forbes() which takes as input F(t) and returns Forbe’s equation. Also write the function energy_balance() which takes as input F (t), L(t), PAL, and EI and returns the energy balance as given in the lab. Use $\\rho_F = 9400$, $\\rho_L = 1800$, $\\gamma_F =3.2$, $\\gamma_L =22$, $\\eta_F =180$, $\\eta_L =230$, $\\beta_{AT} =0.14$.\n",
    "\n",
    "\n",
    "Using forbes() and energy_balance(), define the function weight_odesystem() which takes as input the current fat and lean weights as an array y and the current time as a float t and return the right hand side of the weight change ODE as a tuple."
   ]
  },
  {
   "cell_type": "code",
   "execution_count": null,
   "metadata": {},
   "outputs": [],
   "source": []
  },
  {
   "cell_type": "markdown",
   "metadata": {},
   "source": [
    "# Problem 6\n",
    "\n",
    "Consider the initial value problem corresponing to (1.4).\n",
    "\n",
    "$\\frac{dF}{dt} = \\frac{(1−p(t))EB(t)}{\\rho_F}$,\n",
    "\n",
    "$\\frac{dL}{dt} = \\frac{p(t)EB(t)}{\\rho_L}$,\n",
    "\n",
    "$F(0) = F_0$, \n",
    "\n",
    "$L(0) = L_0$.\n",
    "\n",
    "The provided function fat_mass() returns the fat mass of an individual based on body weight (kg), age (years), height (meters), and sex. Use this function to define initial conditions $F_0$ and $L_0$ for the IVP above: $F_0 =$ fat_mass($args^*$), $L_0 = BW − F_0$.\n",
    "\n",
    "Suppose a 38 year old female, standing 5’8” and weighing 160 lbs, reduces her intake from 2143 to 2025 calories/day, and increases her physical activity from little to no exercise (PAL=1.4) to exercising to 2-3 days per week (PAL=1.5).\n",
    "\n",
    "\n",
    "Use the original intake and phyical activity levels to compute K for this system. Then use solve_ivp to solve the IVP. Graph the solution curve for this single-stage weightloss intervention over a period of 5 years. \n",
    "\n",
    "\n",
    "Note the provided code requires quantities in metric units (kilograms, meters, days)."
   ]
  },
  {
   "cell_type": "code",
   "execution_count": null,
   "metadata": {},
   "outputs": [],
   "source": [
    "# Provided function.\n",
    "def fat_mass(BW, age, H, sex):\n",
    "    BMI = BW / H**2.\n",
    "    if sex == 'male':\n",
    "        return BW * (-103.91 + 37.31 * log(BMI) + 0.14 * age) / 100\n",
    "    else:\n",
    "        return BW * (-102.01 + 39.96 * log(BMI) + 0.14 * age) / 100"
   ]
  },
  {
   "cell_type": "markdown",
   "metadata": {},
   "source": [
    "# Problem 7\n",
    "\n",
    "Modify the preceding problem to handle a two stage weightloss intervention: Suppose for the first 16 weeks intake is reduced from 2143 to 1600 calories/day and physical activity is increased from little to no exercise (PAL=1.4) to an hour of exercise 5 days per week (PAL=1.7). The following 16 weeks intake is increased from 1600 to 2025 calories/day, and exercise is limited to only 2-3 days per week (PAL=1.5).\n",
    "\n",
    "You will need to recompute F0, and L0 at the end of the first 16 weeks, but K will stay the same. Find and graph the solution curve over the 32 week period."
   ]
  },
  {
   "cell_type": "code",
   "execution_count": null,
   "metadata": {},
   "outputs": [],
   "source": []
  }
 ],
 "metadata": {
  "kernelspec": {
   "display_name": "Python 3",
   "language": "python",
   "name": "python3"
  },
  "language_info": {
   "codemirror_mode": {
    "name": "ipython",
    "version": 3
   },
   "file_extension": ".py",
   "mimetype": "text/x-python",
   "name": "python",
   "nbconvert_exporter": "python",
   "pygments_lexer": "ipython3",
   "version": "3.7.9"
  }
 },
 "nbformat": 4,
 "nbformat_minor": 4
}
