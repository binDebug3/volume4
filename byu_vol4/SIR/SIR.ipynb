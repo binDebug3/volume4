{
 "cells": [
  {
   "cell_type": "code",
   "execution_count": null,
   "metadata": {},
   "outputs": [],
   "source": [
    "import numpy as np\n",
    "import matplotlib.pyplot as plt\n",
    "from scipy.integrate import odeint, solve_ivp, solve_bvp\n",
    "from scipy.optimize import minimize"
   ]
  },
  {
   "cell_type": "markdown",
   "metadata": {},
   "source": [
    "# Problem 1"
   ]
  },
  {
   "cell_type": "markdown",
   "metadata": {},
   "source": [
    "Suppose that, in a city of approximately three million, five people who have just become infectious have recently \n",
    "entered the city carrying a certain disease. Each of those individuals has one contact each day that could spread \n",
    "the disease, and an average of three days is spent in the infectious state. Find the solution of the corresponding\n",
    "SIR equations using solve_ivp for fifty days, where each time period is half a day, and plot your results. Use the percentages \n",
    "of each state, not the actual number of people in the state. \n",
    "\n",
    "At the peak of the infection, how many in the city will still be able to work (assume for simplicity that those who are in the infectious state either cannot go to work or are unproductive, etc.)?\n",
    "\n",
    "Hint: Use the t-values paramter in solve_ivp to pass in an array of t-values."
   ]
  },
  {
   "cell_type": "code",
   "execution_count": null,
   "metadata": {},
   "outputs": [],
   "source": [
    "def prob1():\n",
    "\n",
    "    raise NotImplementedError(\"Problem 1 Incomplete\")"
   ]
  },
  {
   "cell_type": "markdown",
   "metadata": {},
   "source": [
    "# Problem 2"
   ]
  },
  {
   "cell_type": "markdown",
   "metadata": {},
   "source": [
    "On March 11, 2020, New York City had 52 confirmed cases of Covid-19. On that day New York started its \n",
    "lock-down measures. Using the following information, model what the spread of the virus could have \n",
    "been if New York did not implement any measures to curb the spread of the virus over the next 150 days:\n",
    "    there are approximately 8.399 million people in New York city,\n",
    "    the average case of Covid-19 lasts for 10 days, \n",
    "    and each infected person can spread the virus to 2.5 people.\n",
    "\n",
    "Plot your results for each day.\n",
    "\n",
    "1) At the projected peak, how many concurrent active cases are there?\n",
    "\n",
    "2) Assuming that about 5% of Covid-19 cases require hospitalization, and using the fact that there are \n",
    "about 58,000 hospital beds in NYC, how much over capacity will the hospitals in NYC be at the projected peak?"
   ]
  },
  {
   "cell_type": "code",
   "execution_count": null,
   "metadata": {},
   "outputs": [],
   "source": [
    "def prob2():\n",
    "    '''\n",
    "    Using the SIR model, plot a graph that models the\n",
    "    spead of a disease in NYC and answer the questions.\n",
    "    1. the projected peak concurent cases\n",
    "    2. capacity deficit at the projected peak\n",
    "\n",
    "    returns:\n",
    "        ans1, ans2: answers to questions 1 and 2\n",
    "    '''\n",
    "    \n",
    "    raise NotImplementedError(\"Problem 2 Incomplete\")"
   ]
  },
  {
   "cell_type": "markdown",
   "metadata": {},
   "source": [
    "# Problem 3"
   ]
  },
  {
   "cell_type": "markdown",
   "metadata": {},
   "source": [
    "There are 7 billion people in the world. Suppose that influenza originates with 1000 people, and that they are contagious for 10 days before recovering.\n",
    "Also suppose that on average someone makes one contact every two days that could spread the flu.\n",
    "Since we can catch a new strain of the flu, suppose that a recovered individual becomes susceptible again with probability f=1/50. To assure a steady population, let the birth rate balance out the death rate, and in particular let μ=.0001.\n",
    "\n",
    "Using the SIRS model above, plot the proportion of population that is Susceptible, Infected, and Recovered over a year span 365 days with one point for each day."
   ]
  },
  {
   "cell_type": "code",
   "execution_count": null,
   "metadata": {},
   "outputs": [],
   "source": [
    "def prob3():\n",
    "    '''\n",
    "    Use the SIRS model to examine the spread of the \n",
    "    flu over the course of a year\n",
    "    '''\n",
    "    \n",
    "    raise NotImplementedError(\"Problem 3 Incomplete\")"
   ]
  },
  {
   "cell_type": "markdown",
   "metadata": {},
   "source": [
    "# Problem 4"
   ]
  },
  {
   "cell_type": "code",
   "execution_count": null,
   "metadata": {},
   "outputs": [],
   "source": [
    "Fit the PGED model to the Covid-19 data provided in new_york_cases.npy.\n",
    "Print the optimal values of alpha and T_G, and plot your results against 1-S(t).\n",
    "Use one point for each day."
   ]
  },
  {
   "cell_type": "code",
   "execution_count": null,
   "metadata": {},
   "outputs": [],
   "source": [
    "def prob4():\n",
    "    '''\n",
    "    Find the best parameters to fit the PEGD model\n",
    "    to the data provided in new_york_cases.npy\n",
    "\n",
    "    Plot the data against 1-S(t)\n",
    "    '''\n",
    "    \n",
    "    raise NotImplementedError(\"Problem 4 Incomplete\")"
   ]
  },
  {
   "cell_type": "markdown",
   "metadata": {},
   "source": [
    "# Problem 5"
   ]
  },
  {
   "cell_type": "code",
   "execution_count": null,
   "metadata": {},
   "outputs": [],
   "source": [
    "def prob5():\n",
    "    '''\n",
    "    Use solve_bvp to model the measles boundary value\n",
    "    problem\n",
    "    '''\n",
    "    \n",
    "    raise NotImplementedError(\"Problem 5 Incomplete\")"
   ]
  }
 ],
 "metadata": {
  "kernelspec": {
   "display_name": "Python 3",
   "language": "python",
   "name": "python3"
  },
  "language_info": {
   "codemirror_mode": {
    "name": "ipython",
    "version": 3
   },
   "file_extension": ".py",
   "mimetype": "text/x-python",
   "name": "python",
   "nbconvert_exporter": "python",
   "pygments_lexer": "ipython3",
   "version": "3.8.3"
  }
 },
 "nbformat": 4,
 "nbformat_minor": 2
}
